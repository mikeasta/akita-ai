{
 "metadata": {
  "language_info": {
   "codemirror_mode": {
    "name": "ipython",
    "version": 3
   },
   "file_extension": ".py",
   "mimetype": "text/x-python",
   "name": "python",
   "nbconvert_exporter": "python",
   "pygments_lexer": "ipython3",
   "version": "3.9.5"
  },
  "orig_nbformat": 4,
  "kernelspec": {
   "name": "python3",
   "display_name": "Python 3.9.5 64-bit"
  },
  "interpreter": {
   "hash": "4e1d9a8909477db77738c33245c29c7265277ef753467dede8cf3f814cde494e"
  }
 },
 "nbformat": 4,
 "nbformat_minor": 2,
 "cells": [
  {
   "cell_type": "code",
   "execution_count": 1,
   "metadata": {},
   "outputs": [],
   "source": [
    "# Dependencies\n",
    "import numpy as np\n",
    "from config import RATING_TO_RECOMMEND, SAME_RATIO\n",
    "import json_implementation as ji"
   ]
  },
  {
   "cell_type": "code",
   "execution_count": 2,
   "metadata": {},
   "outputs": [],
   "source": [
    "# Getting data\n",
    "ratings = ji.json_get_data()[\"collaborative_filtering_ratings\"]"
   ]
  },
  {
   "cell_type": "code",
   "execution_count": 3,
   "metadata": {},
   "outputs": [],
   "source": [
    "# New user stats\n",
    "handling_user_ratings = [1, 3, 0, 0, 0]"
   ]
  },
  {
   "cell_type": "code",
   "execution_count": 4,
   "metadata": {},
   "outputs": [],
   "source": [
    "# Cosine calculation\n",
    "def cosine(ratings_a, ratings_b):\n",
    "    length_a = np.linalg.norm(ratings_a)\n",
    "    length_b = np.linalg.norm(ratings_b)\n",
    "\n",
    "    distance = np.dot(ratings_a, ratings_b) / np.dot(length_a, length_b)\n",
    "    return distance"
   ]
  },
  {
   "cell_type": "code",
   "execution_count": 5,
   "metadata": {},
   "outputs": [],
   "source": [
    "# Result array\n",
    "cosine_values = []\n",
    "for user_ratings in ratings:\n",
    "    current_distance = cosine(handling_user_ratings, user_ratings)\n",
    "    cosine_values.append({current_distance: user_ratings})"
   ]
  },
  {
   "cell_type": "code",
   "execution_count": 6,
   "metadata": {},
   "outputs": [
    {
     "output_type": "stream",
     "name": "stdout",
     "text": [
      "[{0.9534625892455924: [1, 3, 0, 1, 0]}, {0.8280786712108251: [0, 4, 1, 0, 2]}, {0.7911548052852398: [1, 4, 3, 0, 1]}, {0.760638829255665: [3, 2, 0, 1, 0]}, {0.5976143046671968: [1, 3, 0, 3, 3]}, {0.50709255283711: [3, 1, 0, 0, 2]}, {0.42426406871192845: [0, 1, 0, 2, 0]}, {0.35233213170882205: [0, 2, 3, 0, 4]}, {0.3450327796711771: [2, 1, 0, 4, 0]}, {0.29814239699997197: [4, 0, 1, 1, 0]}, {0.28603877677367767: [0, 1, 0, 3, 1]}, {0.28284271247461895: [2, 0, 0, 0, 1]}, {0.2300894966542111: [0, 1, 4, 0, 0]}, {0.07254762501100116: [1, 0, 3, 3, 0]}, {0.0: [0, 0, 1, 3, 4]}, {0.0: [0, 0, 3, 1, 2]}]\n"
     ]
    }
   ],
   "source": [
    "# Descending sort\n",
    "cosine_values.sort(key=lambda item: sorted(list(item.keys())), reverse=True)\n",
    "print(cosine_values)"
   ]
  },
  {
   "cell_type": "code",
   "execution_count": 7,
   "metadata": {},
   "outputs": [],
   "source": [
    "# Recommendation UI\n",
    "def recommend(cosine_values, user_ratings):\n",
    "\n",
    "    # Check, if we need to make a prediction\n",
    "    if 0 not in user_ratings: return\n",
    "\n",
    "    # Define, which goods we should recommend or not\n",
    "    print(\"\\nUser ratings:\", user_ratings)\n",
    "\n",
    "    # Buffer rating\n",
    "    buffer_user_rating = list.copy(user_ratings)\n",
    "\n",
    "    # Handle each vector to predict users rating\n",
    "    for user_index, user_data in enumerate(cosine_values):\n",
    "        \n",
    "        # Get it's key & property\n",
    "        key_distance = list(user_data.keys())[0]\n",
    "        prop_vector  = user_data[key_distance]\n",
    "        print(\"Vector\", user_index + 1, \":\", key_distance, \", \", prop_vector)\n",
    "\n",
    "        # Check if difference is too big\n",
    "        if key_distance < SAME_RATIO: break\n",
    "\n",
    "        # Handle every coordinate in prop vector\n",
    "        for i in range(5):\n",
    "            # Check if data and current prop vector coordinate is already written\n",
    "            if prop_vector[i] != 0 and buffer_user_rating[i] == 0:\n",
    "                buffer_user_rating[i] = prop_vector[i]\n",
    "    \n",
    "        if 0 not in buffer_user_rating: break\n",
    "\n",
    "    print(\"Most nearest prediction:\", buffer_user_rating, \"\\n\")\n",
    "\n",
    "    # Say, if we recommend this good to recommend \n",
    "    for i in range(5):\n",
    "        # Check, if rating is already written\n",
    "        if user_ratings[i] != 0: continue\n",
    "\n",
    "        recommend_string = \"\"\n",
    "        if buffer_user_rating[i] == 0:\n",
    "            recommend_string = \"we can't make a reliable prediction with that good\"\n",
    "        elif buffer_user_rating[i] < RATING_TO_RECOMMEND:\n",
    "            recommend_string = \"we don't recommend this good\"\n",
    "        else: \n",
    "            recommend_string = \"we recommend this good\"\n",
    "\n",
    "        print(\"Good\", i + 1, \":\", recommend_string)"
   ]
  },
  {
   "cell_type": "code",
   "execution_count": 8,
   "metadata": {},
   "outputs": [
    {
     "output_type": "stream",
     "name": "stdout",
     "text": [
      "\nUser ratings: [1, 3, 0, 0, 0]\nVector 1 : 0.9534625892455924 ,  [1, 3, 0, 1, 0]\nVector 2 : 0.8280786712108251 ,  [0, 4, 1, 0, 2]\nMost nearest prediction: [1, 3, 1, 1, 2] \n\nGood 3 : we don't recommend this good\nGood 4 : we don't recommend this good\nGood 5 : we don't recommend this good\n"
     ]
    }
   ],
   "source": [
    "recommend(cosine_values, handling_user_ratings)"
   ]
  }
 ]
}
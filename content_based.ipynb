{
 "metadata": {
  "language_info": {
   "codemirror_mode": {
    "name": "ipython",
    "version": 3
   },
   "file_extension": ".py",
   "mimetype": "text/x-python",
   "name": "python",
   "nbconvert_exporter": "python",
   "pygments_lexer": "ipython3",
   "version": "3.9.5"
  },
  "orig_nbformat": 4,
  "kernelspec": {
   "name": "python3",
   "display_name": "Python 3.9.5 64-bit"
  },
  "interpreter": {
   "hash": "4e1d9a8909477db77738c33245c29c7265277ef753467dede8cf3f814cde494e"
  }
 },
 "nbformat": 4,
 "nbformat_minor": 2,
 "cells": [
  {
   "cell_type": "code",
   "execution_count": 1,
   "metadata": {},
   "outputs": [],
   "source": [
    "# Dependencies\n",
    "import numpy as np\n",
    "import json_implementation as ji\n",
    "import string\n",
    "import spacy\n",
    "from stop_words import get_stop_words"
   ]
  },
  {
   "cell_type": "code",
   "execution_count": 2,
   "metadata": {},
   "outputs": [],
   "source": [
    "# Texts\n",
    "texts = ji.json_get_data()[\"content_based_texts\"]\n",
    "document_amount = len(texts)"
   ]
  },
  {
   "cell_type": "code",
   "execution_count": 3,
   "metadata": {},
   "outputs": [],
   "source": [
    "# Current user text\n",
    "current_user_text = texts[0]"
   ]
  },
  {
   "cell_type": "code",
   "execution_count": 4,
   "metadata": {},
   "outputs": [],
   "source": [
    "# Initialazing spacy model\n",
    "nlp = spacy.load(\"en_core_web_sm\")"
   ]
  },
  {
   "cell_type": "code",
   "execution_count": 5,
   "metadata": {},
   "outputs": [],
   "source": [
    "# Stop words library\n",
    "stop_words_array = get_stop_words(\"en\")"
   ]
  },
  {
   "cell_type": "code",
   "execution_count": 6,
   "metadata": {},
   "outputs": [],
   "source": [
    "# Cosine distance\n",
    "def cosine(vector_a, vector_b):\n",
    "    length_a = np.linalg.norm(vector_a)\n",
    "    length_b = np.linalg.norm(vector_b)\n",
    "\n",
    "    return np.dot(vector_a, vector_b) / np.dot(length_a, length_b)"
   ]
  },
  {
   "cell_type": "code",
   "execution_count": 7,
   "metadata": {},
   "outputs": [],
   "source": [
    "# Calculate text's words weight\n",
    "def calc_words_weight(text):\n",
    "\n",
    "    # Lemmatizing\n",
    "    word_array = nlp(text)\n",
    "    text = \" \".join([token.lemma_ for token in word_array])\n",
    "\n",
    "    # Deleting stop words\n",
    "    word_array = [word.strip(string.punctuation).lower() for word in text.split() if word.strip(string.punctuation).lower() not in stop_words_array]\n",
    "    word_vocabulary = {}\n",
    "\n",
    "    for word in word_array:\n",
    "        word_vocabulary[word] = word_vocabulary[word] + 1 if word in word_vocabulary else 1\n",
    "        \n",
    "    unique_words_amount = len(word_vocabulary)\n",
    "        \n",
    "    for word in word_vocabulary:\n",
    "        # IDF value \n",
    "        found_times = 0\n",
    "        for i in range(document_amount):\n",
    "            if texts[i].lower().find(word) != -1:\n",
    "                found_times += 1\n",
    "\n",
    "        idf = np.log10(document_amount / (found_times or 1))\n",
    "\n",
    "        # TF value\n",
    "        tf = word_vocabulary[word] / unique_words_amount\n",
    "\n",
    "        # TF-IDF value\n",
    "        word_vocabulary[word] = tf * idf\n",
    "    \n",
    "    return word_vocabulary"
   ]
  },
  {
   "cell_type": "code",
   "execution_count": 8,
   "metadata": {},
   "outputs": [],
   "source": [
    "# Calculate cosine distance between Vector-Spaces\n",
    "def calc_cosine_distances(text_to_compare):\n",
    "    cosine_distances = []\n",
    "\n",
    "    for i in range(document_amount):\n",
    "        comparable_text_library = calc_words_weight(text_to_compare)\n",
    "        current_text_library    = calc_words_weight(texts[i])\n",
    "\n",
    "        for word in comparable_text_library:\n",
    "            if word not in current_text_library:\n",
    "                current_text_library[word] = 0\n",
    "\n",
    "        for word in current_text_library:\n",
    "            if word not in comparable_text_library:\n",
    "                comparable_text_library[word] = 0\n",
    "\n",
    "        vector_comparable = [comparable_text_library[word] for word in comparable_text_library]\n",
    "        vector_current    = [current_text_library[word]    for word in comparable_text_library]\n",
    "\n",
    "        cosine_distances.append(cosine(vector_comparable, vector_current))\n",
    "    \n",
    "    return cosine_distances"
   ]
  },
  {
   "cell_type": "code",
   "execution_count": 9,
   "metadata": {},
   "outputs": [
    {
     "output_type": "stream",
     "name": "stdout",
     "text": [
      "[0.9999999999999999, 0.0175645499405395, 0.013843759840182228, 0.009292124778154843, 0.016553341933594857, 0.01947556027677458, 0.01292070260567287, 0.023044545460325652, 0.01987130239175584, 0.03943528863297465, 0.045338711076517026, 0.0241243358889246, 0.0, 0.00305800138716021, 0.04681391486011908, 0.019339883728819056]\n"
     ]
    }
   ],
   "source": [
    "cosine_distance = calc_cosine_distances(current_user_text)\n",
    "print(cosine_distance)"
   ]
  }
 ]
}